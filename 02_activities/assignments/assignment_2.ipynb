{
 "cells": [
  {
   "cell_type": "markdown",
   "metadata": {},
   "source": [
    "# Practice Interview\n",
    "\n",
    "## Objective\n",
    "\n",
    "_*The partner assignment aims to provide participants with the opportunity to practice coding in an interview context. You will analyze your partner's Assignment 1. Moreover, code reviews are common practice in a software development team. This assignment should give you a taste of the code review process.*_\n",
    "\n",
    "## Group Size\n",
    "\n",
    "Each group should have 2 people. You will be assigned a partner\n",
    "\n",
    "## Parts:\n",
    "- Part 1: Complete 1 of 3 questions\n",
    "- Part 2: Review your partner's Assignment 1 submission\n",
    "- Part 3: Perform code review of your partner's assignment 1 by answering the questions below\n",
    "- Part 3: Reflect on Assignment 1 and Assignment 2\n",
    "\n",
    "## Part 1:\n",
    "\n",
    "_*You will be assigned one of three problems based of your first name. Enter your first name, in all lower case, execute the code below, and that will tell you your assigned problem. Include the output as part of your submission (do not clear the output). The problems are based-off problems from Leetcode.*_"
   ]
  },
  {
   "cell_type": "code",
   "execution_count": 1,
   "metadata": {},
   "outputs": [
    {
     "name": "stdout",
     "output_type": "stream",
     "text": [
      "1\n"
     ]
    }
   ],
   "source": [
    "import hashlib\n",
    "\n",
    "def hash_to_range(input_string: str) -> int:\n",
    "     hash_object = hashlib.sha256(input_string.encode())\n",
    "     hash_int = int(hash_object.hexdigest(), 16)\n",
    "     return (hash_int % 3) + 1\n",
    "input_string = \"juan\"\n",
    "result = hash_to_range(input_string)\n",
    "print(result)\n"
   ]
  },
  {
   "cell_type": "markdown",
   "metadata": {},
   "source": [
    "<details>\n",
    "  <summary>Question 1</summary>\n",
    "\n",
    "  # Question One: Check Duplicates in Tree\n",
    "\n",
    "  Given the `root` of a binary tree, check whether it is contains a duplicate value. If a duplicate exists, return the duplicate value. If there are multiple duplicates, return the one with the closest distance to the root. If no duplicate exists, return -1.\n",
    "\n",
    "  ## Examples\n",
    "\n",
    "  ### Example 1\n",
    "\n",
    "  ![](./images/q1_ex1.png)\n",
    "\n",
    "  Input: `root = [1, 2, 2, 3, 5, 6, 7]` *What traversal method is this?*\n",
    "\n",
    "  Output: 2\n",
    "\n",
    "  ### Example 2\n",
    "\n",
    "  ![](./images/q1_ex2.png)\n",
    "\n",
    "  Input: `root = [1, 10, 2, 3, 10, 12, 12]`\n",
    "\n",
    "  Output: 10\n",
    "\n",
    "  ### Example 3\n",
    "\n",
    "  ![](./images/q1_ex3.png)\n",
    "\n",
    "  Input: `root = [10, 9, 8, 7]`\n",
    "\n",
    "  Output: -1\n",
    "\n",
    "</details>\n",
    "\n",
    "#### Starter Code for Question 1"
   ]
  },
  {
   "cell_type": "code",
   "execution_count": null,
   "metadata": {},
   "outputs": [],
   "source": [
    "from collections import deque\n",
    "\n",
    "class TreeNode:\n",
    "    def __init__(self, val=0, left=None, right=None):\n",
    "        self.val = val\n",
    "        self.left = left\n",
    "        self.right = right\n",
    "\n",
    "def is_duplicate(root) -> int:\n",
    "    #If user passed a list, build the tree\n",
    "    if isinstance(root, list):\n",
    "        root = build_tree(root)\n",
    "\n",
    "    #If after building it's still empty\n",
    "    if root is None:\n",
    "        return -1\n",
    "\n",
    "    #BFS to find duplicates\n",
    "    seen = set()\n",
    "    queue = deque([root])\n",
    "\n",
    "    while queue:\n",
    "        #ensure BFS traversal processing order\n",
    "        node = queue.popleft()\n",
    "\n",
    "        #checking if duplicate, return if duplicate (which is always closer to root given BFS)\n",
    "        if node.val in seen:\n",
    "            return node.val\n",
    "        #if new, add to seen for checking\n",
    "        seen.add(node.val)\n",
    "\n",
    "        #if left child exists, add for latter process, same for right.\n",
    "        if node.left:\n",
    "            queue.append(node.left)\n",
    "        if node.right:\n",
    "            queue.append(node.right)\n",
    "\n",
    "    return -1\n",
    "\n",
    "def build_tree(level_list):\n",
    "    #if input is none, then output none\n",
    "    if level_list is None:\n",
    "        return None\n",
    "    #create root node w/ first element of list\n",
    "    root = TreeNode(level_list[0])\n",
    "    queue = deque([root])\n",
    "    i = 1\n",
    "    # loop for the number of elements in list, take next node from queue\n",
    "    while queue and i < len(level_list):\n",
    "        node = queue.popleft()\n",
    "        #check if there is a left child value available at index i & not none\n",
    "        if i < len(level_list) and level_list[i] is not None:\n",
    "            #creating left child node\n",
    "            node.left = TreeNode(level_list[i])\n",
    "            #add left child to queue for later assign\n",
    "            queue.append(node.left)\n",
    "        i += 1\n",
    "        #now checking right side, same process\n",
    "        if i < len(level_list) and level_list[i] is not None:\n",
    "            node.right = TreeNode(level_list[i])\n",
    "            queue.append(node.right)\n",
    "        i += 1\n",
    "    return root\n"
   ]
  },
  {
   "cell_type": "code",
   "execution_count": null,
   "metadata": {},
   "outputs": [
    {
     "name": "stdout",
     "output_type": "stream",
     "text": [
      "2 10 -1 4\n"
     ]
    }
   ],
   "source": [
    "#if input is a list, converts list to TreeNode object then looks for duplicates.\n",
    "print(\n",
    "    is_duplicate([1,2,2,3,5,6,7]),\n",
    "    is_duplicate([1,10,2,3,10,12,12]),\n",
    "    is_duplicate([0,9,8,7]),\n",
    "    is_duplicate([1,2,3,4,4,5,5])\n",
    "    )"
   ]
  },
  {
   "cell_type": "code",
   "execution_count": null,
   "metadata": {},
   "outputs": [
    {
     "data": {
      "text/plain": [
       "2"
      ]
     },
     "execution_count": 18,
     "metadata": {},
     "output_type": "execute_result"
    }
   ],
   "source": [
    "#if input is TreeNode object looks for duplicate closer to the root, prioritizing left-most nodes.\n",
    "root1= TreeNode(1)\n",
    "root1.left= TreeNode(2)\n",
    "root1.right= TreeNode(2)\n",
    "root1.left.left= TreeNode(3)\n",
    "root1.left.right= TreeNode(5)\n",
    "root1.right.left= TreeNode(6)\n",
    "root1.right.right= TreeNode(7)\n",
    "is_duplicate(root1)"
   ]
  },
  {
   "cell_type": "markdown",
   "metadata": {},
   "source": [
    "<details>\n",
    "  <summary>Question 2</summary>\n",
    "\n",
    "  # Question Two: Path to Leaves\n",
    "\n",
    "  Given the `root` of a binary tree, return all root to leaf paths in any order.\n",
    "\n",
    "  ## Examples\n",
    "\n",
    "  ### Example 1\n",
    "\n",
    "  ![](./images/q1_ex1.png)\n",
    "\n",
    "  Input: `root = [1, 2, 2, 3, 5, 6, 7]` *What traversal method is this?*\n",
    "\n",
    "  Output: [[1, 2, 3], [1, 2, 5], [1, 2, 6], [1, 2, 7]]\n",
    "\n",
    "  ### Example 2\n",
    "\n",
    "  ![](./images/q1_ex3.png)\n",
    "\n",
    "  Input: `root = [10, 9, 7, 8]`\n",
    "\n",
    "  Output: [[10, 7], [10, 9, 8]]\n",
    "\n",
    "</details>\n",
    "\n",
    "#### Starter Code for Question 2"
   ]
  },
  {
   "cell_type": "code",
   "execution_count": null,
   "metadata": {},
   "outputs": [],
   "source": [
    "# Definition for a binary tree node.\n",
    "# class TreeNode(object):\n",
    "#     def __init__(self, val = 0, left = None, right = None):\n",
    "#         self.val = val\n",
    "#         self.left = left\n",
    "#         self.right = right\n",
    "def bt_path(root: TreeNode) -> List[List[int]]:\n",
    "  # TODO"
   ]
  },
  {
   "cell_type": "markdown",
   "metadata": {},
   "source": [
    "<details>\n",
    "  <summary>Question 3</summary>\n",
    "\n",
    "  # Question Three: Missing Number in Range\n",
    " \n",
    "  You are given a list containing `n` integers in the range `[0, n]`. Return a list of numbers that are missing from the range `[0, n]` of the array. If there is no missing number, return -1. Note, all the integers in the list may not be unique.\n",
    "  \n",
    "  ## Examples\n",
    "\n",
    "  ### Example 1\n",
    "\n",
    "  Input: `lst = [0, 2]`\n",
    "\n",
    "  Output: [1]\n",
    "\n",
    "  ### Example 2\n",
    "\n",
    "  Input: `lst = [5, 0, 1]`\n",
    "\n",
    "  Output: [2, 3, 4]\n",
    "\n",
    "  ### Example 3\n",
    "\n",
    "  Input: `lst = [6, 8, 2, 3, 5, 7, 0, 1, 10]`\n",
    "\n",
    "  Output: [4, 9]\n",
    "\n",
    "</details>\n",
    "\n",
    "#### Starter Code for Question 3\n"
   ]
  },
  {
   "cell_type": "code",
   "execution_count": null,
   "metadata": {
    "scrolled": true
   },
   "outputs": [],
   "source": [
    "def missing_num(nums: List) -> int:\n",
    "  # TODO"
   ]
  },
  {
   "cell_type": "markdown",
   "metadata": {
    "jp-MarkdownHeadingCollapsed": true
   },
   "source": [
    "## Part 2:\n",
    "\n",
    "You and your partner must share each other's Assignment 1 submission."
   ]
  },
  {
   "cell_type": "markdown",
   "metadata": {},
   "source": [
    "\n",
    "## Part 3:\n",
    "\n",
    "Create a Jupyter Notebook, create 6 of the following headings, and complete the following for your partner's assignment 1:\n",
    "\n",
    "-   Paraphrase the problem in your own words.\n"
   ]
  },
  {
   "cell_type": "code",
   "execution_count": null,
   "metadata": {},
   "outputs": [],
   "source": [
    "# Your answer here\n",
    "\n",
    "# Given a string containing only []{}() characters, assess with a function if they are properly matched and nested correctly. Is correct output True, if not False."
   ]
  },
  {
   "cell_type": "markdown",
   "metadata": {},
   "source": [
    "\n",
    "-   Create 1 new example that demonstrates you understand the problem. Trace/walkthrough 1 example that your partner made and explain it.\n"
   ]
  },
  {
   "cell_type": "code",
   "execution_count": null,
   "metadata": {},
   "outputs": [],
   "source": [
    "# Your answer here\n",
    "\n",
    "# My Example: \n",
    "# Input: \"{[()]}\"\n",
    "# Expected Output: True\n",
    "\n",
    "# opens { waiting for closing pair to clear stack. Same with [ and (. \n",
    "# Now ) makes the pair clearing both, same for ] and }. Since stack is empty output is True.\n",
    "# Stack evolution: { -> {[ -> {[( -> {[ -> { -> None == True\n",
    "\n",
    "# Colleague's Example:\n",
    "# Input: \"([]{})\"\n",
    "# Expected Output: True\n",
    "\n",
    "# Stack evolution: ( -> ([ -> ( -> ({ -> ( -> None == True"
   ]
  },
  {
   "cell_type": "markdown",
   "metadata": {},
   "source": [
    "\n",
    "-   Copy the solution your partner wrote. \n"
   ]
  },
  {
   "cell_type": "code",
   "execution_count": null,
   "metadata": {},
   "outputs": [],
   "source": [
    "# Your answer here\n",
    "\n",
    "# To make sure the balance of the bracket, any open bracket needs to be closed --> Like a pair, which mean, when we see an open bracket, we need to check if there is a closed bracket or vice vera.  \n",
    "# Python dictionary can **ONLY seach value** using key --> closed bracket needs to be key so we can search against the open bracket (as value)\n",
    "\n",
    "bracket_dict={\n",
    "    ')' : '(',\n",
    "    ']' : '[',\n",
    "    '}' : '{'\n",
    "}\n",
    "print(f\"Closed Bracket: {bracket_dict.keys()}\")  # closed bracket \n",
    "\n",
    "print(f\"Open Bracket: {bracket_dict.values()}\")  # open bracket \n",
    "\n",
    "def is_valid_brackets(s: str) -> bool:  # return will be Ture or False\n",
    "    bracket_dict={')' : '(', \n",
    "                  ']' : '[',\n",
    "                  '}' : '{'}\n",
    "\n",
    "    stack=[]\n",
    "\n",
    "    for ch in s:\n",
    "        if ch in bracket_dict.values(): # open bracket\n",
    "            stack.append(ch)\n",
    "            print(f\"Push: {ch}, the stack list: {stack}\")\n",
    "                  \n",
    "        if ch in bracket_dict.keys(): # check for close bracket\n",
    "            print(f\"Check: {ch} with the stack\")\n",
    "            if not stack: # check if stack is empty\n",
    "                print('empty stack')\n",
    "                return False\n",
    "            \n",
    "            elif bracket_dict[ch] == stack[-1]:\n",
    "                stack.pop()\n",
    "                print(f\"close meets open, the stack list: {stack}\")\n",
    "\n",
    "            else: \n",
    "                print(f\"no match for {ch}\") \n",
    "    \n",
    "    print(f\"Stack: {stack}\")\n",
    "    return len(stack) == 0\n",
    "\n",
    "            # if stack[-1] in bracket_dict.keys(): # close meets open\n",
    "            #     # print(f\"at {i-1}, and {i}, close meets open\")\n",
    "            #     # stack.pop()\n",
    "\n",
    "input_1 = '([]{})'\n",
    "is_valid_brackets(input_1)\n"
   ]
  },
  {
   "cell_type": "markdown",
   "metadata": {},
   "source": [
    "\n",
    "-   Explain why their solution works in your own words.\n"
   ]
  },
  {
   "cell_type": "code",
   "execution_count": null,
   "metadata": {},
   "outputs": [],
   "source": [
    "# Your answer here\n",
    "\n",
    "# For the characters to be properly matched and nested they need to be by pairs. So he uses a stack, everytime there is a character, it is added to the stack. \n",
    "# Everytime there is a closing one and there is an already opened that matches, it removes both from the stack accordingly. So at the end if the stack is empty is because they are properly nested.\n",
    "# This works because the stack structure enforces LIFO which matches the way nested brackets work."
   ]
  },
  {
   "cell_type": "markdown",
   "metadata": {},
   "source": [
    "\n",
    "-   Explain the problem’s time and space complexity in your own words.\n"
   ]
  },
  {
   "cell_type": "code",
   "execution_count": null,
   "metadata": {},
   "outputs": [],
   "source": [
    "# Your answer here\n",
    "\n",
    "# Time Complexity: O(n) where n is the length of the string.\n",
    "# Space Complexity: O(n) since in the worst case scenario we are left n brackets in the stack."
   ]
  },
  {
   "cell_type": "markdown",
   "metadata": {},
   "source": [
    "\n",
    "-   Critique your partner's solution, including explanation, and if there is anything that should be adjusted.\n"
   ]
  },
  {
   "cell_type": "code",
   "execution_count": null,
   "metadata": {},
   "outputs": [],
   "source": [
    "# Your answer here\n",
    "# Strenghts:\n",
    "# The logic is correct and well structured.\n",
    "# I find it clever to use a dictionary for mapping closing to opening brackets, since it simplifies matching.\n",
    "\n",
    "# Opportunities for improvement:\n",
    "\n",
    "# There are 2 if statements within the for loop, I would change the second for an Elif statement. Right now, both conditions could be checked \n",
    "# (not in this particular problem, but when upscaling or targeting a broader scope, its this \"mistakes\" that when left open, could lead to reworking)\n",
    "\n",
    "# The function contains a lot of print statements, surely for debugging. For production this should be removed for a cleaner code that helps with redability.\n"
   ]
  },
  {
   "cell_type": "markdown",
   "metadata": {},
   "source": [
    "\n",
    "## Part 4:\n",
    "\n",
    "Please write a 200 word reflection documenting your process from assignment 1, and your presentation and review experience with your partner at the bottom of the Jupyter Notebook under a new heading \"Reflection.\" Again, export this Notebook as pdf.\n"
   ]
  },
  {
   "cell_type": "markdown",
   "metadata": {},
   "source": [
    "### Reflection"
   ]
  },
  {
   "cell_type": "code",
   "execution_count": null,
   "metadata": {},
   "outputs": [],
   "source": [
    "# Your answer here\n",
    "\n",
    "# I find the exercise very interesting, since first we had to solve our part of Assignment 1; \n",
    "# an exercise that leads us to solve a real problem through logic, and then translate it into code to provide a solution. \n",
    "# I found that the most difficult part of the exercise was understanding the logic and how to solve it. \n",
    "# Furthermore, I feel that more than reaching a perfect solution, it is simply about writing an imperfect one and gradually working to improve it.\n",
    "\n",
    "# Now, regarding this second part, we revisited Assignment 1 but from the evaluator’s perspective, \n",
    "# from the side of someone who did not write the code but must understand it in order to refine or rethink it (which happens very frequently at a professional level). \n",
    "# I must admit that at first it was difficult for me to understand it, to the point that I had to complete my own exercise first, \n",
    "# in order to internalize the problem to solve and then be able to evaluate my partner’s work.\n",
    "\n",
    "# Finally, I feel that the exercise strongly encompasses what happens in the real world for a professional dedicated to this field.\n",
    "# it important that when developing a solution, we think about doing it in a clean and clear way, because in most cases it will be someone else who will perfect or work on that code later on. \n",
    "# Keeping in mind that there may be a broader scope in the future and preparing the development with that in mind is, I believe, fundamental."
   ]
  },
  {
   "cell_type": "markdown",
   "metadata": {},
   "source": [
    "\n",
    "## Evaluation Criteria\n",
    "\n",
    "We are looking for the similar points as Assignment 1\n",
    "\n",
    "-   Problem is accurately stated\n",
    "\n",
    "-   New example is correct and easily understandable\n",
    "\n",
    "-   Correctness, time, and space complexity of the coding solution\n",
    "\n",
    "-   Clarity in explaining why the solution works, its time and space complexity\n",
    "\n",
    "-   Quality of critique of your partner's assignment, if necessary\n"
   ]
  },
  {
   "cell_type": "markdown",
   "metadata": {},
   "source": [
    "## Submission Information\n",
    "\n",
    "🚨 **Please review our [Assignment Submission Guide](https://github.com/UofT-DSI/onboarding/blob/main/onboarding_documents/submissions.md)** 🚨 for detailed instructions on how to format, branch, and submit your work. Following these guidelines is crucial for your submissions to be evaluated correctly.\n",
    "\n",
    "### Submission Parameters:\n",
    "* Submission Due Date: `HH:MM AM/PM - DD/MM/YYYY`\n",
    "* The branch name for your repo should be: `assignment-2`\n",
    "* What to submit for this assignment:\n",
    "    * This Jupyter Notebook (assignment_2.ipynb) should be populated and should be the only change in your pull request.\n",
    "* What the pull request link should look like for this assignment: `https://github.com/<your_github_username>/algorithms_and_data_structures/pull/<pr_id>`\n",
    "    * Open a private window in your browser. Copy and paste the link to your pull request into the address bar. Make sure you can see your pull request properly. This helps the technical facilitator and learning support staff review your submission easily.\n",
    "\n",
    "Checklist:\n",
    "- [ ] Created a branch with the correct naming convention.\n",
    "- [ ] Ensured that the repository is public.\n",
    "- [ ] Reviewed the PR description guidelines and adhered to them.\n",
    "- [ ] Verify that the link is accessible in a private browser window.\n",
    "\n",
    "If you encounter any difficulties or have questions, please don't hesitate to reach out to our team via our Slack at `#cohort-6-help`. Our Technical Facilitators and Learning Support staff are here to help you navigate any challenges.\n"
   ]
  },
  {
   "cell_type": "code",
   "execution_count": null,
   "metadata": {},
   "outputs": [],
   "source": []
  }
 ],
 "metadata": {
  "kernelspec": {
   "display_name": "dsi_participant",
   "language": "python",
   "name": "python3"
  },
  "language_info": {
   "codemirror_mode": {
    "name": "ipython",
    "version": 3
   },
   "file_extension": ".py",
   "mimetype": "text/x-python",
   "name": "python",
   "nbconvert_exporter": "python",
   "pygments_lexer": "ipython3",
   "version": "3.9.7"
  }
 },
 "nbformat": 4,
 "nbformat_minor": 4
}
